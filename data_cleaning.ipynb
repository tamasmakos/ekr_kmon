{
 "cells": [
  {
   "cell_type": "code",
   "execution_count": 237,
   "metadata": {},
   "outputs": [],
   "source": [
    "import pandas as pd\n",
    "data = pd.read_csv('/Users/tamasmakos/dev/k-monitor/Export_KMONITOR.csv')\n",
    "data = data.sample(2000)"
   ]
  },
  {
   "cell_type": "code",
   "execution_count": 238,
   "metadata": {},
   "outputs": [
    {
     "data": {
      "text/plain": [
       "0.228"
      ]
     },
     "execution_count": 238,
     "metadata": {},
     "output_type": "execute_result"
    }
   ],
   "source": [
    "data['Nyertes ajánlattevő neve'].isnull().sum()/len(data['Nyertes ajánlattevő neve'])"
   ]
  },
  {
   "cell_type": "code",
   "execution_count": 239,
   "metadata": {},
   "outputs": [],
   "source": [
    "must_and_nice_to_have_columns = [\n",
    "    'Eljárás EKR azonosító',\n",
    "    'Ajánlatkérő szervezet neve',\n",
    "    'Ajánlatkérő nemzeti azonosítószáma',\n",
    "    'Ajánlatkérő szervezet típusa',\n",
    "    'Ajánlatkérő szervezet főtevékenysége',\n",
    "    'Eljárásrend',\n",
    "    'Eljárás fajtája',\n",
    "    'Eljárás tárgya',\n",
    "    'Szerződés típusa',\n",
    "    'A beszerzés végleges összértéke',\n",
    "    'A beszerzés végleges összértéke pénznem',\n",
    "    'Teljesítés helye NUTS-kód(ok)',\n",
    "    'Szerződés megkötésének dátuma',\n",
    "    'Beérkezett ajánlatok száma',\n",
    "    'Nyertes ajánlattevő adószáma (adóazonosító jele)',\n",
    "    'Nyertes ajánlattevő neve',\n",
    "    'Eljárás tárgya',\n",
    "    'Fő CPV-kód(ok)',\n",
    "    'További CPV-kód(ok)',\n",
    "    'A beszerzés európai uniós alapokból finanszírozott projekttel és/vagy programmal kapcsolatos',\n",
    "    'Szerződés/rész odaítélésre került',\n",
    "    'Nyertes ajánlattevő kkv',\n",
    "    'Szerződés megkötésének dátuma',\n",
    "    'Hirdetmény közzétételének dátuma',\n",
    "    'Minőségi kritérium alkalmazásra került',\n",
    "    'Költség kritérium alkalmazásra került',\n",
    "    'Ár kritérium alkalmazásra került',\n",
    "    'A beszerzés európai uniós alapokból finanszírozott projekttel és/vagy programmal kapcsolatos',\n",
    "    'Szerződés/rész odaítélésre került',\n",
    "    'Alvállalkozók igénybevétele a szerződés teljesítéséhez',\n",
    "    'Alvállalkozó(k) megnevezése, adószáma'\n",
    "]\n"
   ]
  },
  {
   "cell_type": "code",
   "execution_count": 206,
   "metadata": {},
   "outputs": [],
   "source": [
    "data = data[must_and_nice_to_have_columns]"
   ]
  },
  {
   "cell_type": "code",
   "execution_count": 240,
   "metadata": {},
   "outputs": [
    {
     "data": {
      "text/plain": [
       "0.228"
      ]
     },
     "execution_count": 240,
     "metadata": {},
     "output_type": "execute_result"
    }
   ],
   "source": [
    "data['Nyertes ajánlattevő neve'].isnull().sum()/len(data['Nyertes ajánlattevő neve'])"
   ]
  },
  {
   "cell_type": "code",
   "execution_count": 241,
   "metadata": {},
   "outputs": [],
   "source": [
    "def process_contracts(df, issuer_name_col, issuer_id_col, winner_name_col, winner_id_col):\n",
    "    # Reset the index of the DataFrame to ensure uniqueness\n",
    "    df = df.reset_index(drop=True)\n",
    "\n",
    "    def safe_strip(value):\n",
    "        \"\"\" Safely strip strings, handling NaN values \"\"\"\n",
    "        return value.strip() if isinstance(value, str) else value\n",
    "\n",
    "    # Creating a new DataFrame to hold the expanded data\n",
    "    expanded_data = []\n",
    "\n",
    "    for _, row in df.iterrows():\n",
    "        issuer_names = row[issuer_name_col].split('|') if pd.notna(row[issuer_name_col]) else ['']\n",
    "        issuer_ids = row[issuer_id_col].split('|') if pd.notna(row[issuer_id_col]) else ['']\n",
    "        winner_names = row[winner_name_col].split('|') if pd.notna(row[winner_name_col]) else ['']\n",
    "        winner_ids = row[winner_id_col].split('|') if pd.notna(row[winner_id_col]) else ['']\n",
    "\n",
    "        for issuer_name, issuer_id in zip(issuer_names, issuer_ids):\n",
    "            for winner_name, winner_id in zip(winner_names, winner_ids):\n",
    "                if safe_strip(issuer_name) and safe_strip(winner_name):\n",
    "                    # Convert row to dictionary to avoid copying the index\n",
    "                    new_row = row.to_dict()\n",
    "                    new_row[issuer_name_col] = safe_strip(issuer_name)\n",
    "                    new_row[issuer_id_col] = safe_strip(issuer_id)\n",
    "                    new_row[winner_name_col] = safe_strip(winner_name)\n",
    "                    new_row[winner_id_col] = safe_strip(winner_id)\n",
    "                    expanded_data.append(new_row)\n",
    "\n",
    "    return pd.DataFrame(expanded_data)\n",
    "\n",
    "expanded_df = process_contracts(\n",
    "    data, \n",
    "    'Ajánlatkérő szervezet neve', \n",
    "    'Ajánlatkérő nemzeti azonosítószáma', \n",
    "    'Nyertes ajánlattevő neve', \n",
    "    'Nyertes ajánlattevő adószáma (adóazonosító jele)'\n",
    ")\n"
   ]
  },
  {
   "cell_type": "code",
   "execution_count": 243,
   "metadata": {},
   "outputs": [
    {
     "data": {
      "text/plain": [
       "0.0"
      ]
     },
     "execution_count": 243,
     "metadata": {},
     "output_type": "execute_result"
    }
   ],
   "source": [
    "expanded_df['Nyertes ajánlattevő neve'].isnull().sum()/len(expanded_df['Nyertes ajánlattevő neve'])"
   ]
  },
  {
   "cell_type": "code",
   "execution_count": 208,
   "metadata": {},
   "outputs": [],
   "source": [
    "import re\n",
    "\n",
    "def general_text_cleaning(df, column_name):\n",
    "    \"\"\"\n",
    "    Cleans the text in the specified column of a DataFrame.\n",
    "\n",
    "    Parameters:\n",
    "    df (DataFrame): The dataframe to be processed.\n",
    "    column_name (str): The name of the column to clean.\n",
    "\n",
    "    Returns:\n",
    "    DataFrame: The dataframe with cleaned text in the specified column.\n",
    "    \"\"\"\n",
    "\n",
    "    # Making a copy of the dataframe to avoid modifying the original data\n",
    "    cleaned_df = df.copy()\n",
    "\n",
    "    # Function to clean individual text entries\n",
    "    def clean_text(text):\n",
    "        # Ensuring that the input is a string\n",
    "        if not isinstance(text, str):\n",
    "            if pd.isna(text):\n",
    "                return \"Ismeretlen\"  # Replace NaN with \"Ismeretlen\"\n",
    "            else:\n",
    "                return str(text)  # Convert non-string, non-NaN values to string\n",
    "\n",
    "        # Proceed with cleaning\n",
    "        text = text.strip()  # Trimming white spaces\n",
    "        text = re.sub(r'\\s+', ' ', text)  # Normalizing whitespaces\n",
    "        text = text.title()  # Standardizing capitalization\n",
    "        text = re.sub(r'[^A-Za-z0-9 ÁÉÍÓÖŐÚÜŰáéíóöőúüű,.]', '', text)  # Removing special characters\n",
    "\n",
    "        return text\n",
    "\n",
    "    # Applying the cleaning function to the specified column\n",
    "    cleaned_df[column_name] = cleaned_df[column_name].apply(clean_text)\n",
    "\n",
    "    return cleaned_df"
   ]
  },
  {
   "cell_type": "code",
   "execution_count": 209,
   "metadata": {},
   "outputs": [],
   "source": [
    "from sklearn.feature_extraction.text import TfidfVectorizer\n",
    "from sklearn.metrics.pairwise import linear_kernel\n",
    "import numpy as np\n",
    "import pandas as pd\n",
    "\n",
    "def standardize_entries_with_log_and_similarity_enhanced(dataframe, column_name, threshold=0.85):\n",
    "    dataframe['unique_id'] = range(len(dataframe))\n",
    "    unique_values = dataframe[[column_name, 'unique_id']].drop_duplicates(subset=[column_name])\n",
    "\n",
    "    vectorizer = TfidfVectorizer()\n",
    "    tfidf_matrix = vectorizer.fit_transform(unique_values[column_name])\n",
    "\n",
    "    cosine_similarities = linear_kernel(tfidf_matrix)  # More efficient than cosine_similarity\n",
    "\n",
    "    standardized_names = {}\n",
    "    change_log_data = []\n",
    "\n",
    "    # Iterate only over the upper triangle of the similarity matrix to avoid redundant comparisons\n",
    "    for i in range(len(cosine_similarities)):\n",
    "        for j in range(i + 1, len(cosine_similarities)):\n",
    "            if cosine_similarities[i, j] >= threshold:\n",
    "                entry_i = unique_values.iloc[i][column_name]\n",
    "                entry_j = unique_values.iloc[j][column_name]\n",
    "\n",
    "                # Decide which entry to standardize based on occurrence\n",
    "                if entry_i in standardized_names:\n",
    "                    standardized_names[entry_j] = standardized_names[entry_i]\n",
    "                else:\n",
    "                    standardized_names[entry_i] = entry_j\n",
    "                    standardized_names[entry_j] = entry_j\n",
    "\n",
    "                # Log changes\n",
    "                change_log_data.append({\n",
    "                    'Unique ID': unique_values.iloc[j]['unique_id'],\n",
    "                    'Original Value': entry_j,\n",
    "                    'Match': entry_i,\n",
    "                    'New Value': standardized_names[entry_j],\n",
    "                    'Similarity Score': cosine_similarities[i][j]\n",
    "                })\n",
    "\n",
    "    dataframe[column_name] = dataframe[column_name].map(standardized_names)\n",
    "    change_log_df = pd.DataFrame(change_log_data)\n",
    "\n",
    "    return dataframe, change_log_df\n"
   ]
  },
  {
   "cell_type": "code",
   "execution_count": 245,
   "metadata": {},
   "outputs": [],
   "source": [
    "def standardize_company_type(company_type):\n",
    "    \"\"\"\n",
    "    Standardize Hungarian company types based on common names, abbreviations, and misspellings.\n",
    "    \n",
    "    Args:\n",
    "    company_type (str): The company type string to standardize.\n",
    "    \n",
    "    Returns:\n",
    "    str: The standardized abbreviation of the company type.\n",
    "    \"\"\"\n",
    "    try:\n",
    "      lower_type = company_type.lower()\n",
    "\n",
    "      # Check for \"Korlátolt felelősségű társaság\" and its abbreviations\n",
    "      if \"korlátolt\" in lower_type and \"felelősségű\" in lower_type and \"társaság\" in lower_type or lower_type.replace(\".\", \"\") == \"kft\":\n",
    "          return \"Kft.\"\n",
    "\n",
    "      # Check for \"Részvénytársaság\" and its abbreviations\n",
    "      elif \"részvénytársaság\" in lower_type or \"részvény\" in lower_type or lower_type.replace(\".\", \"\") == \"rt\":\n",
    "          return \"Rt.\"\n",
    "\n",
    "      # Check for \"Zártkörűen működő részvénytársaság\" and its abbreviations\n",
    "      elif \"zártkörűen\" in lower_type and \"működő\" in lower_type and \"részvénytársaság\" in lower_type or lower_type.replace(\".\", \"\") == \"zrt\":\n",
    "          return \"Zrt.\"\n",
    "\n",
    "      # Check for \"egyéni vállalkozó\" and its abbreviations\n",
    "      elif \"egyéni\" in lower_type and \"vállalkozó\" in lower_type or lower_type.replace(\".\", \"\") in [\"ev\", \"e v\"]:\n",
    "          return \"EV\"\n",
    "\n",
    "      # Check for \"Betéti társaság\" and its abbreviations\n",
    "      elif \"betéti\" in lower_type and \"társaság\" in lower_type or lower_type.replace(\".\", \"\") == \"bt\":\n",
    "          return \"Bt.\"\n",
    "\n",
    "      # Check for \"Szövetkezet\" and its abbreviations\n",
    "      elif \"szövetkezet\" in lower_type or lower_type.replace(\".\", \"\") == \"sz\":\n",
    "          return \"Sz.\"\n",
    "\n",
    "      # Check for \"Közkereseti társaság\" and its abbreviations\n",
    "      elif \"közkereseti\" in lower_type and \"társaság\" in lower_type or lower_type.replace(\".\", \"\") == \"kkt\":\n",
    "          return \"Kkt.\"\n",
    "\n",
    "    except AttributeError:\n",
    "      pass\n",
    "\n",
    "    # Return original if no match found\n",
    "    return company_type\n",
    "\n",
    "# Reapply the updated function to the dataset\n",
    "expanded_df['Ajánlatkérő szervezet neve'] = expanded_df['Ajánlatkérő szervezet neve'].apply(standardize_company_type)\n",
    "expanded_df['Nyertes ajánlattevő neve'] = expanded_df['Nyertes ajánlattevő neve'].apply(standardize_company_type)"
   ]
  },
  {
   "cell_type": "code",
   "execution_count": 211,
   "metadata": {},
   "outputs": [],
   "source": [
    "text_cleaning = ['Ajánlatkérő szervezet neve', 'Nyertes ajánlattevő neve']"
   ]
  },
  {
   "cell_type": "code",
   "execution_count": 212,
   "metadata": {},
   "outputs": [
    {
     "name": "stdout",
     "output_type": "stream",
     "text": [
      "Processed and saved change log for column 'Ajánlatkérő szervezet neve' in file 'Ajánlatkérő szervezet neve_change_log.csv'.\n",
      "Processed and saved change log for column 'Nyertes ajánlattevő neve' in file 'Nyertes ajánlattevő neve_change_log.csv'.\n",
      "All specified columns have been processed.\n"
     ]
    }
   ],
   "source": [
    "import pandas as pd\n",
    "import os\n",
    "import ctypes\n",
    "import gc\n",
    "\n",
    "# Looping through the list of column names\n",
    "for column in text_cleaning:\n",
    "    # Initial Step: Replace all NaN values with \"Ismeretlen\"\n",
    "    expanded_df[column] = expanded_df[column].fillna(\"Ismeretlen\")\n",
    "\n",
    "    # Step 1: Clean the column using general_text_cleaning\n",
    "    cleaned_text_data = general_text_cleaning(expanded_df, column)\n",
    "\n",
    "    # Step 2: Standardize entries and generate change_log_df\n",
    "    data, change_log_df = standardize_entries_with_log_and_similarity_enhanced(cleaned_text_data, column, 0.70)\n",
    "\n",
    "    # Step 3: Save the change_log_df to a CSV file\n",
    "    change_log_filename = f'{column}_change_log.csv'\n",
    "    change_log_df.to_csv(change_log_filename, index=False)\n",
    "\n",
    "    print(f\"Processed and saved change log for column '{column}' in file '{change_log_filename}'.\")\n",
    "\n",
    "print(\"All specified columns have been processed.\")\n"
   ]
  },
  {
   "cell_type": "code",
   "execution_count": 219,
   "metadata": {},
   "outputs": [
    {
     "data": {
      "text/plain": [
       "New Land Media Reklám, Szolgáltató És Kereskedelmi Korlátolt Felelősségű Társaság             14\n",
       "Rk Tech Kereskedelmi És Szolgáltató Korlátolt Felelősségű Társaság                            10\n",
       "Mészáros És Mészáros Ipari, Kereskedelmi És Szolgáltató Zártkörűen Működő Részvénytársaság     8\n",
       "Premier G. Med Cardio Kft.                                                                     8\n",
       "Biotech Hungary Kft.                                                                           7\n",
       "Strabag Általános Építő Korlátolt Felelősségű Társaság                                         7\n",
       "Greiner BioOne Hungary Kft                                                                     5\n",
       "Vwr International Kft                                                                          5\n",
       "BioScience Kft.                                                                                5\n",
       "Allied Water Solutions Cee Kft.                                                                4\n",
       "P2M Informatika Szolgáltató Korlátolt Felelősségű Társaság                                     4\n",
       "Quantum Kft.                                                                                   4\n",
       "ParkfenntartóKertészeti És Szolgáltató Korlátolt Felelősségű Társaság                          4\n",
       "Sysman Informatikai Zrt.                                                                       3\n",
       "Főmterv Zrt.                                                                                   3\n",
       "Víztec Magyarország Kft.                                                                       3\n",
       "Duna Aszfalt Építő Zártkörűen Működő Részvénytársaság                                          3\n",
       "Belovecz És Társa Hús És Hentesáru Kereskedelmi Kft.                                           3\n",
       "Digital Számítástechnikai Kereskedelmi És Szolgáltató Kft.                                     3\n",
       "Speciálterv Építőmérnöki Kft.                                                                  3\n",
       "Moonlight Event Szolgáltató Rendezvényszervező Kft                                             3\n",
       "I.T.A. Life Science Kft.                                                                       2\n",
       "Atryum Invest Építőipari És Kereskedelmi Korlátolt Felelősségú Társaság                        2\n",
       "Halker Élelmiszer És Iparcikk Kereskedelmi Korlátolt Felelősségű Tárrsaság                     2\n",
       "Humanoit Informatikai Kft.                                                                     2\n",
       "Biomarker Kereskedelmi És Szolgáltató Kft.                                                     2\n",
       "Erfo Rehabilitációs Foglalkoztató Közhasznú Nonprofit Korlátolt Felelősségű Társaság           2\n",
       "ForrLab Kft.                                                                                   2\n",
       "Name: Nyertes ajánlattevő neve, dtype: int64"
      ]
     },
     "execution_count": 219,
     "metadata": {},
     "output_type": "execute_result"
    }
   ],
   "source": [
    "data['Nyertes ajánlattevő neve'].value_counts().sort_values(ascending=False)\n",
    "\n",
    "# Plotting the distribution of the number of contracts per company\n",
    "import matplotlib.pyplot as plt\n",
    "\n",
    "plt.figure(figsize=(10, 6))\n",
    "counts = data['Nyertes ajánlattevő neve'].value_counts().sort_values(ascending=False)\n",
    "plt.hist(counts, bins=1000)\n",
    "plt.xlabel('Number of contracts per company')\n",
    "plt.ylabel('Frequency')\n",
    "plt.yscale('log')\n",
    "plt.title('Distribution of the number of contracts per company')\n",
    "plt.show()\n"
   ]
  },
  {
   "cell_type": "code",
   "execution_count": 227,
   "metadata": {},
   "outputs": [
    {
     "name": "stdout",
     "output_type": "stream",
     "text": [
      "  Eljárás EKR azonosító                         Ajánlatkérő szervezet neve  \\\n",
      "0       EKR001376162019     Nemzeti Biodiverzitás- és Génmegőrzési Központ   \n",
      "1       EKR000211952019  MÁV Magyar Államvasutak Zártkörűen Működő Rész...   \n",
      "2       EKR000211952019  MÁV Magyar Államvasutak Zártkörűen Működő Rész...   \n",
      "3       EKR000211952019  MÁV Magyar Államvasutak Zártkörűen Működő Rész...   \n",
      "4       EKR000211952019  MÁV Szolgáltató Központ Zártkörűen Működő Rész...   \n",
      "\n",
      "  Ajánlatkérő nemzeti azonosítószáma Ajánlatkérő szervezet típusa  \\\n",
      "0                        15779935213          N - Központi szintű   \n",
      "1                     EKRSZ_35803375             U - Egyéb típus:   \n",
      "2                     EKRSZ_35803375             U - Egyéb típus:   \n",
      "3                     EKRSZ_35803375             U - Egyéb típus:   \n",
      "4                     EKRSZ_54810576             U - Egyéb típus:   \n",
      "\n",
      "  Ajánlatkérő szervezet főtevékenysége          Eljárásrend  \\\n",
      "0              KL - Egyéb tevékenység:  Nemzeti eljárásrend   \n",
      "1              KL - Egyéb tevékenység:    Uniós eljárásrend   \n",
      "2              KL - Egyéb tevékenység:    Uniós eljárásrend   \n",
      "3              KL - Egyéb tevékenység:    Uniós eljárásrend   \n",
      "4              KL - Egyéb tevékenység:    Uniós eljárásrend   \n",
      "\n",
      "             Eljárás fajtája                        Eljárás tárgya  \\\n",
      "0  Kbt. 113. § Nyílt eljárás            parcellakombájn beszerzése   \n",
      "1         Meghívásos eljárás  Vagyonvédelmi szolgáltatások (956) 2   \n",
      "2         Meghívásos eljárás  Vagyonvédelmi szolgáltatások (956) 2   \n",
      "3         Meghívásos eljárás  Vagyonvédelmi szolgáltatások (956) 2   \n",
      "4         Meghívásos eljárás  Vagyonvédelmi szolgáltatások (956) 2   \n",
      "\n",
      "           Szerződés típusa  A beszerzés végleges összértéke  \\\n",
      "0              Árubeszerzés                       33500000.0   \n",
      "1  Szolgáltatás megrendelés                      463570950.0   \n",
      "2  Szolgáltatás megrendelés                      463570950.0   \n",
      "3  Szolgáltatás megrendelés                      463570950.0   \n",
      "4  Szolgáltatás megrendelés                      463570950.0   \n",
      "\n",
      "  A beszerzés végleges összértéke pénznem Teljesítés helye NUTS-kód(ok)  \\\n",
      "0                                     HUF                         HU120   \n",
      "1                                     HUF                   HU333|HU332   \n",
      "2                                     HUF                   HU333|HU332   \n",
      "3                                     HUF                   HU333|HU332   \n",
      "4                                     HUF                   HU333|HU332   \n",
      "\n",
      "  Szerződés megkötésének dátuma  Beérkezett ajánlatok száma  \\\n",
      "0                    2020-01-15                         2.0   \n",
      "1                    2020-12-29                         1.0   \n",
      "2                    2020-12-29                         1.0   \n",
      "3                    2020-12-29                         1.0   \n",
      "4                    2020-12-29                         1.0   \n",
      "\n",
      "  Nyertes ajánlattevő adószáma (adóazonosító jele) Nyertes ajánlattevő neve  \\\n",
      "0                           11039811203,HU11039811                      NaN   \n",
      "1                                      25420546241                      NaN   \n",
      "2                                      12698084244                      NaN   \n",
      "3                                      12100059242                      NaN   \n",
      "4                                      25420546241                      NaN   \n",
      "\n",
      "  Fő CPV-kód(ok)                                További CPV-kód(ok)  \\\n",
      "0     16340000-0                                         16340000-0   \n",
      "1     79710000-4  79711000-1|79710000-4|79713000-5|79714000-2|79...   \n",
      "2     79710000-4  79711000-1|79710000-4|79713000-5|79714000-2|79...   \n",
      "3     79710000-4  79711000-1|79710000-4|79713000-5|79714000-2|79...   \n",
      "4     79710000-4  79711000-1|79710000-4|79713000-5|79714000-2|79...   \n",
      "\n",
      "  A beszerzés európai uniós alapokból finanszírozott projekttel és/vagy programmal kapcsolatos  \\\n",
      "0                                               Igen                                             \n",
      "1                                                Nem                                             \n",
      "2                                                Nem                                             \n",
      "3                                                Nem                                             \n",
      "4                                                Nem                                             \n",
      "\n",
      "  Szerződés/rész odaítélésre került Nyertes ajánlattevő kkv  \\\n",
      "0                              Igen                    Igen   \n",
      "1                              Igen          Igen|Igen|Igen   \n",
      "2                              Igen          Igen|Igen|Igen   \n",
      "3                              Igen          Igen|Igen|Igen   \n",
      "4                              Igen          Igen|Igen|Igen   \n",
      "\n",
      "  Hirdetmény közzétételének dátuma Minőségi kritérium alkalmazásra került  \\\n",
      "0                       2020-01-30                                   Igen   \n",
      "1                       2021-01-24                                   Igen   \n",
      "2                       2021-01-24                                   Igen   \n",
      "3                       2021-01-24                                   Igen   \n",
      "4                       2021-01-24                                   Igen   \n",
      "\n",
      "  Költség kritérium alkalmazásra került Ár kritérium alkalmazásra került  \\\n",
      "0                                   Nem                             Igen   \n",
      "1                                   Nem                             Igen   \n",
      "2                                   Nem                             Igen   \n",
      "3                                   Nem                             Igen   \n",
      "4                                   Nem                             Igen   \n",
      "\n",
      "  Alvállalkozók igénybevétele a szerződés teljesítéséhez  \\\n",
      "0                                                Nem       \n",
      "1                                                Nem       \n",
      "2                                                Nem       \n",
      "3                                                Nem       \n",
      "4                                                Nem       \n",
      "\n",
      "  Alvállalkozó(k) megnevezése, adószáma  unique_id  \n",
      "0                                   NaN          0  \n",
      "1                                   NaN          1  \n",
      "2                                   NaN          2  \n",
      "3                                   NaN          3  \n",
      "4                                   NaN          4  \n"
     ]
    }
   ],
   "source": [
    "print(data.head())\n"
   ]
  },
  {
   "cell_type": "code",
   "execution_count": 230,
   "metadata": {},
   "outputs": [],
   "source": [
    "# Creating a bipartite graph of companies and contracts and A beszerzés végleges összértéke as weight\n",
    "import networkx as nx\n",
    "\n",
    "# Creating a new graph\n",
    "G = nx.Graph()\n",
    "\n",
    "# Adding nodes with the node attribute \"bipartite\"\n",
    "G.add_nodes_from(data['Ajánlatkérő szervezet neve'], bipartite=0)\n",
    "G.add_nodes_from(data['Nyertes ajánlattevő neve'], bipartite=1)\n",
    "\n",
    "# Adding edges with the edge attribute \"weight\"\n",
    "for _, row in data.iterrows():\n",
    "    G.add_edge(row['Ajánlatkérő szervezet neve'], row['Nyertes ajánlattevő neve'], weight=row['A beszerzés végleges összértéke'])"
   ]
  },
  {
   "cell_type": "code",
   "execution_count": 236,
   "metadata": {},
   "outputs": [
    {
     "ename": "ImportError",
     "evalue": "requires pygraphviz http://pygraphviz.github.io/",
     "output_type": "error",
     "traceback": [
      "\u001b[0;31m---------------------------------------------------------------------------\u001b[0m",
      "\u001b[0;31mModuleNotFoundError\u001b[0m                       Traceback (most recent call last)",
      "File \u001b[0;32m/opt/homebrew/lib/python3.11/site-packages/networkx/drawing/nx_agraph.py:295\u001b[0m, in \u001b[0;36mpygraphviz_layout\u001b[0;34m(G, prog, root, args)\u001b[0m\n\u001b[1;32m    294\u001b[0m \u001b[38;5;28;01mtry\u001b[39;00m:\n\u001b[0;32m--> 295\u001b[0m     \u001b[38;5;28;01mimport\u001b[39;00m \u001b[38;5;21;01mpygraphviz\u001b[39;00m\n\u001b[1;32m    296\u001b[0m \u001b[38;5;28;01mexcept\u001b[39;00m \u001b[38;5;167;01mImportError\u001b[39;00m \u001b[38;5;28;01mas\u001b[39;00m err:\n",
      "\u001b[0;31mModuleNotFoundError\u001b[0m: No module named 'pygraphviz'",
      "\nThe above exception was the direct cause of the following exception:\n",
      "\u001b[0;31mImportError\u001b[0m                               Traceback (most recent call last)",
      "Cell \u001b[0;32mIn[236], line 7\u001b[0m\n\u001b[1;32m      5\u001b[0m \u001b[38;5;66;03m# Drawing the graph\u001b[39;00m\n\u001b[1;32m      6\u001b[0m plt\u001b[38;5;241m.\u001b[39mfigure(figsize\u001b[38;5;241m=\u001b[39m(\u001b[38;5;241m12\u001b[39m, \u001b[38;5;241m12\u001b[39m))\n\u001b[0;32m----> 7\u001b[0m pos \u001b[38;5;241m=\u001b[39m \u001b[43mgraphviz_layout\u001b[49m\u001b[43m(\u001b[49m\u001b[43mG\u001b[49m\u001b[43m,\u001b[49m\u001b[43m \u001b[49m\u001b[43mprog\u001b[49m\u001b[38;5;241;43m=\u001b[39;49m\u001b[38;5;124;43m'\u001b[39;49m\u001b[38;5;124;43mneato\u001b[39;49m\u001b[38;5;124;43m'\u001b[39;49m\u001b[43m)\u001b[49m\n\u001b[1;32m      8\u001b[0m nx\u001b[38;5;241m.\u001b[39mdraw(G, pos, with_labels\u001b[38;5;241m=\u001b[39m\u001b[38;5;28;01mTrue\u001b[39;00m, node_size\u001b[38;5;241m=\u001b[39mnode_sizes, edge_color\u001b[38;5;241m=\u001b[39m\u001b[38;5;124m'\u001b[39m\u001b[38;5;124mgray\u001b[39m\u001b[38;5;124m'\u001b[39m, alpha\u001b[38;5;241m=\u001b[39m\u001b[38;5;241m0.4\u001b[39m, linewidths\u001b[38;5;241m=\u001b[39m\u001b[38;5;241m0.5\u001b[39m)\n\u001b[1;32m      9\u001b[0m plt\u001b[38;5;241m.\u001b[39mtitle(\u001b[38;5;124m'\u001b[39m\u001b[38;5;124mBipartite Graph of Companies and Contracts\u001b[39m\u001b[38;5;124m'\u001b[39m)\n",
      "File \u001b[0;32m/opt/homebrew/lib/python3.11/site-packages/networkx/drawing/nx_agraph.py:251\u001b[0m, in \u001b[0;36mgraphviz_layout\u001b[0;34m(G, prog, root, args)\u001b[0m\n\u001b[1;32m    220\u001b[0m \u001b[38;5;28;01mdef\u001b[39;00m \u001b[38;5;21mgraphviz_layout\u001b[39m(G, prog\u001b[38;5;241m=\u001b[39m\u001b[38;5;124m\"\u001b[39m\u001b[38;5;124mneato\u001b[39m\u001b[38;5;124m\"\u001b[39m, root\u001b[38;5;241m=\u001b[39m\u001b[38;5;28;01mNone\u001b[39;00m, args\u001b[38;5;241m=\u001b[39m\u001b[38;5;124m\"\u001b[39m\u001b[38;5;124m\"\u001b[39m):\n\u001b[1;32m    221\u001b[0m \u001b[38;5;250m    \u001b[39m\u001b[38;5;124;03m\"\"\"Create node positions for G using Graphviz.\u001b[39;00m\n\u001b[1;32m    222\u001b[0m \n\u001b[1;32m    223\u001b[0m \u001b[38;5;124;03m    Parameters\u001b[39;00m\n\u001b[0;32m   (...)\u001b[0m\n\u001b[1;32m    249\u001b[0m \u001b[38;5;124;03m    see https://gitlab.com/graphviz/graphviz/-/issues/1767 for more info.\u001b[39;00m\n\u001b[1;32m    250\u001b[0m \u001b[38;5;124;03m    \"\"\"\u001b[39;00m\n\u001b[0;32m--> 251\u001b[0m     \u001b[38;5;28;01mreturn\u001b[39;00m \u001b[43mpygraphviz_layout\u001b[49m\u001b[43m(\u001b[49m\u001b[43mG\u001b[49m\u001b[43m,\u001b[49m\u001b[43m \u001b[49m\u001b[43mprog\u001b[49m\u001b[38;5;241;43m=\u001b[39;49m\u001b[43mprog\u001b[49m\u001b[43m,\u001b[49m\u001b[43m \u001b[49m\u001b[43mroot\u001b[49m\u001b[38;5;241;43m=\u001b[39;49m\u001b[43mroot\u001b[49m\u001b[43m,\u001b[49m\u001b[43m \u001b[49m\u001b[43margs\u001b[49m\u001b[38;5;241;43m=\u001b[39;49m\u001b[43margs\u001b[49m\u001b[43m)\u001b[49m\n",
      "File \u001b[0;32m/opt/homebrew/lib/python3.11/site-packages/networkx/drawing/nx_agraph.py:297\u001b[0m, in \u001b[0;36mpygraphviz_layout\u001b[0;34m(G, prog, root, args)\u001b[0m\n\u001b[1;32m    295\u001b[0m     \u001b[38;5;28;01mimport\u001b[39;00m \u001b[38;5;21;01mpygraphviz\u001b[39;00m\n\u001b[1;32m    296\u001b[0m \u001b[38;5;28;01mexcept\u001b[39;00m \u001b[38;5;167;01mImportError\u001b[39;00m \u001b[38;5;28;01mas\u001b[39;00m err:\n\u001b[0;32m--> 297\u001b[0m     \u001b[38;5;28;01mraise\u001b[39;00m \u001b[38;5;167;01mImportError\u001b[39;00m(\n\u001b[1;32m    298\u001b[0m         \u001b[38;5;124m\"\u001b[39m\u001b[38;5;124mrequires pygraphviz \u001b[39m\u001b[38;5;124m\"\u001b[39m \u001b[38;5;124m\"\u001b[39m\u001b[38;5;124mhttp://pygraphviz.github.io/\u001b[39m\u001b[38;5;124m\"\u001b[39m\n\u001b[1;32m    299\u001b[0m     ) \u001b[38;5;28;01mfrom\u001b[39;00m \u001b[38;5;21;01merr\u001b[39;00m\n\u001b[1;32m    300\u001b[0m \u001b[38;5;28;01mif\u001b[39;00m root \u001b[38;5;129;01mis\u001b[39;00m \u001b[38;5;129;01mnot\u001b[39;00m \u001b[38;5;28;01mNone\u001b[39;00m:\n\u001b[1;32m    301\u001b[0m     args \u001b[38;5;241m+\u001b[39m\u001b[38;5;241m=\u001b[39m \u001b[38;5;124mf\u001b[39m\u001b[38;5;124m\"\u001b[39m\u001b[38;5;124m-Groot=\u001b[39m\u001b[38;5;132;01m{\u001b[39;00mroot\u001b[38;5;132;01m}\u001b[39;00m\u001b[38;5;124m\"\u001b[39m\n",
      "\u001b[0;31mImportError\u001b[0m: requires pygraphviz http://pygraphviz.github.io/"
     ]
    },
    {
     "data": {
      "text/plain": [
       "<Figure size 1200x1200 with 0 Axes>"
      ]
     },
     "metadata": {},
     "output_type": "display_data"
    }
   ],
   "source": [
    "from networkx.drawing.nx_agraph import graphviz_layout\n",
    "\n",
    "# Calculating the frequency of each node\n",
    "node_sizes = [G.degree(node) * 100 for node in G]\n",
    "\n",
    "# Drawing the graph\n",
    "plt.figure(figsize=(12, 12))\n",
    "pos = graphviz_layout(G, prog='neato')\n",
    "nx.draw(G, pos, with_labels=True, node_size=node_sizes, edge_color='gray', alpha=0.4, linewidths=0.5)\n",
    "plt.title('Bipartite Graph of Companies and Contracts')\n",
    "plt.show()"
   ]
  },
  {
   "cell_type": "markdown",
   "metadata": {},
   "source": [
    "# "
   ]
  },
  {
   "cell_type": "code",
   "execution_count": 200,
   "metadata": {},
   "outputs": [
    {
     "data": {
      "text/plain": [
       "['Eljárás EKR azonosító',\n",
       " 'Ajánlatkérő szervezet neve',\n",
       " 'Ajánlatkérő nemzeti azonosítószáma',\n",
       " 'Ajánlatkérő szervezet típusa',\n",
       " 'Ajánlatkérő szervezet főtevékenysége',\n",
       " 'Eljárásrend',\n",
       " 'Eljárás fajtája',\n",
       " 'Eljárás tárgya',\n",
       " 'Szerződés típusa',\n",
       " 'A beszerzés végleges összértéke',\n",
       " 'A beszerzés végleges összértéke pénznem',\n",
       " 'Teljesítés helye NUTS-kód(ok)',\n",
       " 'Szerződés megkötésének dátuma',\n",
       " 'Beérkezett ajánlatok száma',\n",
       " 'Nyertes ajánlattevő adószáma (adóazonosító jele)',\n",
       " 'Nyertes ajánlattevő neve',\n",
       " 'Fő CPV-kód(ok)',\n",
       " 'További CPV-kód(ok)',\n",
       " 'A beszerzés európai uniós alapokból finanszírozott projekttel és/vagy programmal kapcsolatos',\n",
       " 'Szerződés/rész odaítélésre került',\n",
       " 'Nyertes ajánlattevő kkv',\n",
       " 'Hirdetmény közzétételének dátuma',\n",
       " 'Minőségi kritérium alkalmazásra került',\n",
       " 'Költség kritérium alkalmazásra került',\n",
       " 'Ár kritérium alkalmazásra került',\n",
       " 'Alvállalkozók igénybevétele a szerződés teljesítéséhez',\n",
       " 'Alvállalkozó(k) megnevezése, adószáma',\n",
       " 'unique_id']"
      ]
     },
     "execution_count": 200,
     "metadata": {},
     "output_type": "execute_result"
    }
   ],
   "source": [
    "list(data.columns)"
   ]
  },
  {
   "cell_type": "code",
   "execution_count": 202,
   "metadata": {},
   "outputs": [
    {
     "name": "stdout",
     "output_type": "stream",
     "text": [
      "[{'generated_text': ' KR heli. jav. KM-ból hibafeltárás, hibajavítás. KR heli. jav. KM-ból hibafeltárás, hibajavítás. KR heli. jav. KM-ból hibafeltárás, hibajavítás. KR heli. jav. KM-ból hibafeltárás'}]\n"
     ]
    }
   ],
   "source": [
    "import requests\n",
    "\n",
    "API_URL = \"https://px843j3fuq5o3nz6.us-east-1.aws.endpoints.huggingface.cloud\"\n",
    "headers = {\n",
    "\t\"Authorization\": \"Bearer XXXXXX\",\n",
    "\t\"Content-Type\": \"application/json\"\n",
    "}\n",
    "\n",
    "def query(payload):\n",
    "\tresponse = requests.post(API_URL, headers=headers, json=payload)\n",
    "\treturn response.json()\n",
    "\t\n",
    "output = query({\n",
    "\t\"inputs\": \"Mit jelent ez a közbeszerzési eljárásnak a tárgy: KR heli. jav. KM-ból hibafeltárás, hibajavítás.\",\n",
    "    \"parameters\": {\n",
    "        \"max_new_tokens\": 100,\n",
    "\t\t\"repetition_penalty\": 0.4\n",
    "    }\n",
    "\t\n",
    "})\n",
    "\n",
    "print(output)"
   ]
  }
 ],
 "metadata": {
  "kernelspec": {
   "display_name": "Python 3",
   "language": "python",
   "name": "python3"
  },
  "language_info": {
   "codemirror_mode": {
    "name": "ipython",
    "version": 3
   },
   "file_extension": ".py",
   "mimetype": "text/x-python",
   "name": "python",
   "nbconvert_exporter": "python",
   "pygments_lexer": "ipython3",
   "version": "3.11.5"
  }
 },
 "nbformat": 4,
 "nbformat_minor": 2
}
