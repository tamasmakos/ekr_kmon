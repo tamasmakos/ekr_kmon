{
 "cells": [
  {
   "cell_type": "code",
   "execution_count": 4,
   "metadata": {},
   "outputs": [
    {
     "data": {
      "text/html": [
       "\n",
       "        <iframe\n",
       "            width=\"100%\"\n",
       "            height=\"650\"\n",
       "            src=\"http://127.0.0.1:8050/\"\n",
       "            frameborder=\"0\"\n",
       "            allowfullscreen\n",
       "            \n",
       "        ></iframe>\n",
       "        "
      ],
      "text/plain": [
       "<IPython.lib.display.IFrame at 0x107d54f10>"
      ]
     },
     "metadata": {},
     "output_type": "display_data"
    }
   ],
   "source": [
    "import dash\n",
    "import dash_html_components as html\n",
    "import dash_core_components as dcc\n",
    "from dash.dependencies import Input, Output, State\n",
    "from flask import Flask, send_from_directory\n",
    "import os\n",
    "\n",
    "server = Flask(__name__)\n",
    "app = dash.Dash(__name__, server=server, url_base_pathname='/')\n",
    "\n",
    "# Assuming your HTML files are in the specified directory\n",
    "directory = '/Users/tamasmakos/dev/k-monitor/network_analysis/network_visualizations'\n",
    "html_files = [f for f in os.listdir(directory) if f.endswith('.html')]\n",
    "\n",
    "app.layout = html.Div([\n",
    "    dcc.Location(id='url', refresh=False),\n",
    "    html.Div([\n",
    "        dcc.Dropdown(\n",
    "            id='file-dropdown',\n",
    "            options=[{'label': f, 'value': f} for f in html_files],\n",
    "            value=html_files[0] if html_files else None\n",
    "        ),\n",
    "        dcc.Input(\n",
    "            id='search-input',\n",
    "            type='text',\n",
    "            placeholder='Search node names...'\n",
    "        ),\n",
    "        html.Div(id='page-content')\n",
    "    ])\n",
    "])\n",
    "\n",
    "@app.callback(\n",
    "    Output('page-content', 'children'),\n",
    "    [Input('file-dropdown', 'value'),\n",
    "     Input('search-input', 'value')]\n",
    ")\n",
    "def display_page(selected_file, search_input):\n",
    "    if selected_file:\n",
    "        filtered_nodes = filter_nodes(selected_file, search_input)\n",
    "        return html.Iframe(\n",
    "            src=f'/reports/{selected_file}',\n",
    "            style={'height': '500px', 'width': '100%'},\n",
    "            title=filtered_nodes\n",
    "        )\n",
    "    return \"Please select a report.\"\n",
    "\n",
    "def filter_nodes(selected_file, search_input):\n",
    "    # Implement your node filtering logic here\n",
    "    # You can use the selected_file and search_input variables to filter the nodes\n",
    "    # Return a list of filtered node names\n",
    "    pass\n",
    "\n",
    "# Serve HTML files\n",
    "@server.route('/reports/<path:path>')\n",
    "def serve_report(path):\n",
    "    if path in html_files:\n",
    "        return send_from_directory(directory, path)\n",
    "    return '404'\n",
    "\n",
    "if __name__ == '__main__':\n",
    "    app.run_server(debug=True)\n"
   ]
  }
 ],
 "metadata": {
  "kernelspec": {
   "display_name": "Python 3",
   "language": "python",
   "name": "python3"
  },
  "language_info": {
   "codemirror_mode": {
    "name": "ipython",
    "version": 3
   },
   "file_extension": ".py",
   "mimetype": "text/x-python",
   "name": "python",
   "nbconvert_exporter": "python",
   "pygments_lexer": "ipython3",
   "version": "3.10.10"
  }
 },
 "nbformat": 4,
 "nbformat_minor": 2
}
